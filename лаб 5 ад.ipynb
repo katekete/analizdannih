{
 "cells": [
  {
   "cell_type": "markdown",
   "metadata": {},
   "source": [
    "<h1>Table of Contents<span class=\"tocSkip\"></span></h1>\n",
    "<div class=\"toc\"><ul class=\"toc-item\"></ul></div>"
   ]
  },
  {
   "cell_type": "markdown",
   "metadata": {},
   "source": [
    "<p style=\"font-size:125%; color:#119988; background-color:#EEE\">Задание 1</p>\n",
    "\n",
    "Создайте словарь *food* продуктов питания, ключами которого являются наименования, а значениями цены. Исходные данные для словаря:\n",
    "```\n",
    "titles=('apples,grape,bananas,watermelons,tomatoes'.split(','))\n",
    "prices=(20,25,15,11,15)\n",
    "```"
   ]
  },
  {
   "cell_type": "code",
   "execution_count": 19,
   "metadata": {},
   "outputs": [
    {
     "name": "stdout",
     "output_type": "stream",
     "text": [
      "{'apples': 20, 'grape': 25, 'bananas': 15, 'watermelons': 11, 'tomatoes': 15}\n"
     ]
    }
   ],
   "source": [
    "# 1\n",
    "\n",
    "titles=('apples,grape,bananas,watermelons,tomatoes'.split(','))\n",
    "prices=(20,25,15,11,15)\n",
    "\n",
    "food = dict(zip(titles,prices))\n",
    "\n",
    "print(food)\n",
    "\n",
    "\n",
    "s = {}\n",
    "\n",
    "\n",
    "\n",
    "\n"
   ]
  },
  {
   "cell_type": "code",
   "execution_count": 1,
   "metadata": {},
   "outputs": [
    {
     "name": "stdout",
     "output_type": "stream",
     "text": [
      "{1: 1, 2: 4, 3: 9, 4: 16}\n"
     ]
    }
   ],
   "source": [
    "arr=[1,2,3,4]\n",
    "yyy = {}\n",
    "\n",
    "for i in arr:\n",
    "    yyy[i]=i**2\n",
    "\n",
    "print(yyy)"
   ]
  },
  {
   "cell_type": "code",
   "execution_count": 2,
   "metadata": {},
   "outputs": [
    {
     "data": {
      "text/plain": [
       "{1: 1, 2: 4, 3: 9, 4: 16}"
      ]
     },
     "execution_count": 2,
     "metadata": {},
     "output_type": "execute_result"
    }
   ],
   "source": [
    "{x:x**2 for x in arr}"
   ]
  },
  {
   "cell_type": "markdown",
   "metadata": {},
   "source": [
    "<p style=\"font-size:125%; color:#119988; background-color:#EEE\">Задание 2</p>\n",
    "\n",
    "Удалите из словаря *food* арбузы (watermelons) и добавьте дыни (melons) по той же цене."
   ]
  },
  {
   "cell_type": "code",
   "execution_count": 20,
   "metadata": {},
   "outputs": [
    {
     "name": "stdout",
     "output_type": "stream",
     "text": [
      "{'apples': 20, 'grape': 25, 'bananas': 15, 'tomatoes': 15, 'melons': 11}\n"
     ]
    }
   ],
   "source": [
    "# 2\n",
    "food[\"melons\"]=food.pop(\"watermelons\")\n",
    "\n",
    "print(food)"
   ]
  },
  {
   "cell_type": "markdown",
   "metadata": {},
   "source": [
    "<p style=\"font-size:125%; color:#119988; background-color:#EEE\">Задание 3</p>\n",
    "\n",
    "Все цены снижены на 15%. Обновите словарь продуктов."
   ]
  },
  {
   "cell_type": "code",
   "execution_count": 21,
   "metadata": {},
   "outputs": [
    {
     "name": "stdout",
     "output_type": "stream",
     "text": [
      "{'apples': 17.0, 'grape': 21.25, 'bananas': 12.75, 'tomatoes': 12.75, 'melons': 9.35}\n"
     ]
    }
   ],
   "source": [
    "# 3\n",
    "\n",
    "titles=('apples,grape,bananas,watermelons,tomatoes'.split(','))\n",
    "prices=(20,25,15,11,15)\n",
    "\n",
    "food = dict(zip(titles,prices))\n",
    "\n",
    "food[\"melons\"]=food.pop(\"watermelons\")\n",
    "\n",
    "for i in food:\n",
    "    food[i]*=0.85\n",
    "\n",
    "print(food)\n",
    "\n",
    "\n"
   ]
  },
  {
   "cell_type": "markdown",
   "metadata": {},
   "source": [
    "<p style=\"font-size:125%; color:#119988; background-color:#EEE\">Задание 4</p>\n",
    "\n",
    "Поменяйте местами цены и названия, пусть ключами словаря станут цены, а значениями - названия. Изменилось ли при этом количество элементов словаря? Если да, то объясните, почему."
   ]
  },
  {
   "cell_type": "code",
   "execution_count": 38,
   "metadata": {},
   "outputs": [
    {
     "name": "stdout",
     "output_type": "stream",
     "text": [
      "{17.0: 'apples', 21.25: 'grape', 12.75: 'tomatoes', 9.35: 'melons'}\n"
     ]
    }
   ],
   "source": [
    "# 4\n",
    "titles=('apples,grape,bananas,watermelons,tomatoes'.split(','))\n",
    "prices=(20,25,15,11,15)\n",
    "\n",
    "food1 = dict(zip(titles,prices))\n",
    "\n",
    "food1[\"melons\"]=food1.pop(\"watermelons\")\n",
    "\n",
    "for i in food1:\n",
    "    food1[i]*=0.85\n",
    "\n",
    "food2= {}\n",
    "\n",
    "for key,value in food1.items():\n",
    "    food2[value]=key\n",
    "\n",
    "\n",
    "\n",
    "print(food2)\n",
    "\n",
    "\n",
    "# потому что изначально в цена бананов и томатов совпадает, когда мы сделали цену - ключом, это элемент стал перезаписываться,\n",
    "# а не делать два раз элемента\n",
    "\n",
    "\n"
   ]
  },
  {
   "cell_type": "markdown",
   "metadata": {},
   "source": [
    "<p style=\"font-size:125%; color:#119988; background-color:#EEE\">Задание 5</p>\n",
    "\n",
    "Напишите функцию, возвращающую максимальную степень некоторого натурального числа $k$ (например $k=2$), меньшую данного натурального числа $n$. Пусть $k$ и $n$ будут параметрами функции."
   ]
  },
  {
   "cell_type": "code",
   "execution_count": 43,
   "metadata": {},
   "outputs": [
    {
     "name": "stdout",
     "output_type": "stream",
     "text": [
      "Максимальная степень 2, меньшая чем 8, равна 2\n"
     ]
    }
   ],
   "source": [
    "# 5\n",
    "\n",
    "def max_stepen(k, n):\n",
    "    \n",
    "    max_Stepen = 0\n",
    "\n",
    "    while k ** max_Stepen < n:\n",
    "        max_Stepen += 1\n",
    "    return max_Stepen - 1\n",
    "\n",
    "k, n = int(input()), int(input())\n",
    "print(f\"Максимальная степень {k}, меньшая чем {n}, равна {max_stepen(k, n)}\")\n",
    "\n"
   ]
  },
  {
   "cell_type": "markdown",
   "metadata": {},
   "source": [
    "<p style=\"font-size:125%; color:#119988; background-color:#EEE\">Задание 6</p>\n",
    "\n",
    "Создайте функцию, возвращающую ряд Фибоначчи до определенного натурального числа $n$."
   ]
  },
  {
   "cell_type": "code",
   "execution_count": 62,
   "metadata": {},
   "outputs": [
    {
     "name": "stdout",
     "output_type": "stream",
     "text": [
      "Значение 55 элемента: 86267571272\n"
     ]
    }
   ],
   "source": [
    "# 6\n",
    "\n",
    "def fibonachy(n):\n",
    "    fib1 = fib2 = 1\n",
    "    t=n\n",
    "    while n > 0:\n",
    "        fib1, fib2 = fib2, fib1 + fib2\n",
    "        n -= 1\n",
    "    print(f\"Значение {t+2} элемента: {fib2}\")\n",
    "\n",
    "\n",
    "fibonachy(int(input(\"Номер элемента ряда Фибоначчи: \"))-2)\n"
   ]
  },
  {
   "cell_type": "markdown",
   "metadata": {},
   "source": [
    "<p style=\"font-size:125%; color:#119988; background-color:#EEE\">Задание 7</p>\n",
    "\n",
    "Создайте рекурсивную функцию, возвращающую ряд Фибоначчи до определенного натурального числа $n$."
   ]
  },
  {
   "cell_type": "code",
   "execution_count": null,
   "metadata": {},
   "outputs": [],
   "source": [
    "# 7\n",
    "def fibonacci(n):\n",
    "      if n in (1, 2):\n",
    "          return 1\n",
    "      return fibonacci(n - 1) + fibonacci(n - 2)\n",
    " \n",
    " \n",
    "print(fibonacci(10))\n"
   ]
  },
  {
   "cell_type": "markdown",
   "metadata": {},
   "source": [
    "<p style=\"font-size:125%; color:#119988; background-color:#EEE\">Задание 8</p>\n",
    "\n",
    "Создайте функцию, которая проверяет, является ли число членом ряда Фибоначчи."
   ]
  },
  {
   "cell_type": "markdown",
   "metadata": {},
   "source": []
  },
  {
   "cell_type": "code",
   "execution_count": 69,
   "metadata": {},
   "outputs": [
    {
     "name": "stdout",
     "output_type": "stream",
     "text": [
      "Число 5 является членом ряда чисел Фибоначи\n"
     ]
    }
   ],
   "source": [
    "# 8\n",
    "\n",
    "def fibonachi(n):\n",
    "    fib1 = fib2 = 1\n",
    "    while fib1 + fib2 <= n:\n",
    "        fib1, fib2 = fib2, fib1 + fib2\n",
    "    print(f\"Число {n} является членом ряда чисел Фибоначи\") if n == fib2 else print(f\"Число {n} не является членом ряда чисел Фибоначи\")\n",
    "\n",
    "fibonachi(int(input(\"Номер элемента ряда Фибоначчи: \")))\n",
    "\n"
   ]
  },
  {
   "cell_type": "markdown",
   "metadata": {},
   "source": [
    "<p style=\"font-size:125%; color:#119988; background-color:#EEE\">Задание 9</p>\n",
    "\n",
    "Студентка Александра родилась 11 июня 2003 года в 12 часов дня. Рассчитать время в минутах с момента рождения."
   ]
  },
  {
   "cell_type": "code",
   "execution_count": 239,
   "metadata": {},
   "outputs": [
    {
     "name": "stdout",
     "output_type": "stream",
     "text": [
      "С моента рождения прошло 10704042.9335 минут\n"
     ]
    }
   ],
   "source": [
    "# 9\n",
    "\n",
    "import datetime as dt\n",
    "\n",
    "# datetime(year, month, day, hour, minute, second)\n",
    "bd = dt.datetime(2003, 6, 11, 18)\n",
    "\n",
    "now = dt.datetime.now()\n",
    "\n",
    "c = now-bd\n",
    "\n",
    "minutes = c.total_seconds() / 60\n",
    "print(f\"С моента рождения прошло {round(minutes,4)} минут\")\n",
    "\n"
   ]
  }
 ],
 "metadata": {
  "kernelspec": {
   "display_name": "Python 3",
   "language": "python",
   "name": "python3"
  },
  "language_info": {
   "codemirror_mode": {
    "name": "ipython",
    "version": 3
   },
   "file_extension": ".py",
   "mimetype": "text/x-python",
   "name": "python",
   "nbconvert_exporter": "python",
   "pygments_lexer": "ipython3",
   "version": "3.11.5"
  },
  "orig_nbformat": 4
 },
 "nbformat": 4,
 "nbformat_minor": 2
}
