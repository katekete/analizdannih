{
 "cells": [
  {
   "cell_type": "markdown",
   "metadata": {},
   "source": [
    "1. Дано: списки `a,b=[1,1,1],[3,3,3]`\n",
    "\n",
    "Создать одномерные массивы A и B из списков а и b.\n",
    "\n",
    "Вычислить выражение $-((B-А)*(B/2))$"
   ]
  },
  {
   "cell_type": "code",
   "execution_count": 4,
   "metadata": {},
   "outputs": [
    {
     "name": "stdout",
     "output_type": "stream",
     "text": [
      "[3. 3. 3.]\n"
     ]
    }
   ],
   "source": [
    "import numpy as np\n",
    "\n",
    "#1\n",
    "\n",
    "a,b=[1,1,1],[3,3,3]\n",
    "\n",
    "A = np.array(a)\n",
    "B = np.array(b)\n",
    "\n",
    "print(-((B-A)*(B/2)))\n",
    "\n",
    "# Ваш код здесь\n"
   ]
  },
  {
   "cell_type": "markdown",
   "metadata": {},
   "source": [
    "2. Используя как можно меньше операций в исходном массиве \"шахматная доска\" np.zeros((8,8)), добиться расстановки кодов \"шахматных фигур\".\n",
    "\n",
    "Ожидаемый результат:\n",
    "```\n",
    "[[-4., -3., -2., -6., -5., -2., -3., -4.],\n",
    " [-1., -1., -1., -1., -1., -1., -1., -1.],\n",
    " [0., 0., 0., 0., 0., 0., 0., 0.],\n",
    " [0., 0., 0., 0., 0., 0., 0., 0.],\n",
    " [0., 0., 0., 0., 0., 0., 0., 0.],\n",
    " [0., 0., 0., 0., 0., 0., 0., 0.],\n",
    " [1., 1., 1., 1., 1., 1., 1., 1.],\n",
    " [4., 3., 2., 6., 5., 2., 3., 4.]]\n",
    " ```"
   ]
  },
  {
   "cell_type": "code",
   "execution_count": 12,
   "metadata": {},
   "outputs": [
    {
     "name": "stdout",
     "output_type": "stream",
     "text": [
      "[[-4. -3. -2. -6. -5. -2. -3. -4.]\n",
      " [-1. -1. -1. -1. -1. -1. -1. -1.]\n",
      " [ 0.  0.  0.  0.  0.  0.  0.  0.]\n",
      " [ 0.  0.  0.  0.  0.  0.  0.  0.]\n",
      " [ 0.  0.  0.  0.  0.  0.  0.  0.]\n",
      " [ 0.  0.  0.  0.  0.  0.  0.  0.]\n",
      " [ 1.  1.  1.  1.  1.  1.  1.  1.]\n",
      " [ 4.  3.  2.  6.  5.  2.  3.  4.]]\n"
     ]
    }
   ],
   "source": [
    "#2. Ваш код здесь\n",
    "import numpy as np\n",
    "\n",
    "chees_desk = np.zeros((8,8))\n",
    "\n",
    "chees_desk[0, :] = [-4, -3, -2, -6, -5, -2, -3, -4]\n",
    "chees_desk[1, :] = -1\n",
    "chees_desk[6, :] = 1\n",
    "chees_desk[7, :] = [4, 3, 2, 6, 5, 2, 3, 4]\n",
    "\n",
    "print(chees_desk)"
   ]
  },
  {
   "cell_type": "markdown",
   "metadata": {},
   "source": [
    "3. Средствами NumPy рассчитать произведения четных чисел от 2 до 20 на ближайшие к ним бОльшие нечетные числа"
   ]
  },
  {
   "cell_type": "code",
   "execution_count": 21,
   "metadata": {},
   "outputs": [
    {
     "name": "stdout",
     "output_type": "stream",
     "text": [
      "[ 2  4  6  8 10 12 14 16 18 20]\n",
      "[ 3  5  7  9 11 13 15 17 19 21]\n",
      "[  6  20  42  72 110 156 210 272 342 420]\n"
     ]
    }
   ],
   "source": [
    "# 3. Ваш код здесь\n",
    "\n",
    "import numpy as np\n",
    "\n",
    "number = np.arange(2,21,2)\n",
    "odd_number = number + 1\n",
    "multi = number*odd_number\n",
    "\n",
    "print(number)\n",
    "\n",
    "print(odd_number)\n",
    "\n",
    "print(multi)\n"
   ]
  },
  {
   "cell_type": "markdown",
   "metadata": {},
   "source": [
    "4. Сгенерировать двумерный массив *arr* размерности (4, 7), состоящий из случайных действительных чисел, равномерно распределенных в дипазоне от 0 до 20. Нормализовать значения массива так, что после нормализации максимальный элемент массива будет равен 1.0, минимальный 0.0. Значения округлить (с помощью `np.round()`) до четырех десятичных знаков."
   ]
  },
  {
   "cell_type": "code",
   "execution_count": 29,
   "metadata": {},
   "outputs": [
    {
     "name": "stdout",
     "output_type": "stream",
     "text": [
      "[[19.05387223 15.10676324  6.06415404  7.7532949   5.18432902 15.80708595\n",
      "  15.33750481]\n",
      " [15.5759145   0.35790939  0.07623733  8.39542918  4.40271539  9.84637939\n",
      "   3.68957039]\n",
      " [17.36294916  3.51106445 18.06213187 12.52778193 18.65719297 10.28985565\n",
      "  18.38666573]\n",
      " [ 0.02270277  1.2936629   4.98873125  1.64641595  3.37440155 12.24203838\n",
      "   4.26802373]]\n",
      "\n",
      "\n",
      "[[1.     0.7926 0.3175 0.4062 0.2712 0.8294 0.8047]\n",
      " [0.8172 0.0176 0.0028 0.4399 0.2301 0.5162 0.1927]\n",
      " [0.9111 0.1833 0.9479 0.6571 0.9792 0.5395 0.9649]\n",
      " [0.     0.0668 0.2609 0.0853 0.1761 0.6421 0.2231]]\n"
     ]
    }
   ],
   "source": [
    "# 4. Ваш код здесь\n",
    "import numpy as np\n",
    "from numpy import random\n",
    "\n",
    "arr = np.random.uniform(0, 20, size=(4, 7))\n",
    "\n",
    "print(arr)\n",
    "\n",
    "print()\n",
    "print()\n",
    "\n",
    "print(np.round((arr - arr.min()) / (arr.max() - arr.min()),4))"
   ]
  },
  {
   "cell_type": "markdown",
   "metadata": {},
   "source": [
    "5. Имеется массив my_array\n",
    "```\n",
    "my_array = np.array([[1,2,3,4,5],\n",
    "                [6,7,8,9,10],\n",
    "                [11,12,13,14,15],\n",
    "                [16,17,18,19,20],\n",
    "                [21,22,23,24,25]])\n",
    "```\n",
    "Напишите код, с помощью которого можно извлечь из него центральный фрагмент размером 3 х 3, с числами 7, 8, 9, 12, 13, 14, 17, 18, 19."
   ]
  },
  {
   "cell_type": "code",
   "execution_count": 30,
   "metadata": {},
   "outputs": [
    {
     "name": "stdout",
     "output_type": "stream",
     "text": [
      "[[ 7  8  9]\n",
      " [12 13 14]\n",
      " [17 18 19]]\n"
     ]
    }
   ],
   "source": [
    "# 5. \n",
    "\n",
    "my_array = np.array([[1,2,3,4,5],\n",
    "                    [6,7,8,9,10],\n",
    "                    [11,12,13,14,15],\n",
    "                    [16,17,18,19,20],\n",
    "                    [21,22,23,24,25]])\n",
    "\n",
    "# Ваш код здесь\n",
    "print(my_array[1:4, 1:4])"
   ]
  },
  {
   "cell_type": "markdown",
   "metadata": {},
   "source": [
    "6. Создайте массив *my_sin*, состоящий из синусов элементов массива *my_array*.\n",
    "Посчитайте, чему равна сумма элементов полученного массива. Ответ округлите до\n",
    "трёх цифр после запятой."
   ]
  },
  {
   "cell_type": "code",
   "execution_count": 33,
   "metadata": {},
   "outputs": [
    {
     "name": "stdout",
     "output_type": "stream",
     "text": [
      "[[ 0.84147098  0.90929743  0.14112001 -0.7568025  -0.95892427]\n",
      " [-0.2794155   0.6569866   0.98935825  0.41211849 -0.54402111]\n",
      " [-0.99999021 -0.53657292  0.42016704  0.99060736  0.65028784]\n",
      " [-0.28790332 -0.96139749 -0.75098725  0.14987721  0.91294525]\n",
      " [ 0.83665564 -0.00885131 -0.8462204  -0.90557836 -0.13235175]]\n",
      "\n",
      "\n",
      "-0.058\n"
     ]
    }
   ],
   "source": [
    "# 6. Ваш код здесь\n",
    "my_sin = np.sin(my_array)\n",
    "\n",
    "summ_array = np.sum(my_sin)\n",
    "\n",
    "print(my_sin)\n",
    "\n",
    "print()\n",
    "print()\n",
    "\n",
    "print(round(summ_array,3))"
   ]
  },
  {
   "cell_type": "markdown",
   "metadata": {},
   "source": [
    "7. Создать матрицу из 20 случайных целых чисел от 0 до 100. Получить второе сверху значение в матрице. Определить индекс этого значения."
   ]
  },
  {
   "cell_type": "code",
   "execution_count": 58,
   "metadata": {},
   "outputs": [
    {
     "name": "stdout",
     "output_type": "stream",
     "text": [
      "[[88 35 82 97  3]\n",
      " [ 7 92 41 11 60]\n",
      " [35 61 28 49 12]\n",
      " [52 26 73 45 14]]\n",
      "\n",
      "Второе сверху:  35 \n",
      "его индекс:  (array([0, 2]), array([1, 0]))\n"
     ]
    }
   ],
   "source": [
    "# 7. Ваш код здесь\n",
    "\n",
    "from numpy import random\n",
    "\n",
    "matrix = np.random.randint(0, 100, (4, 5))\n",
    "\n",
    "vtoroe_sverhy = matrix[0,1]\n",
    "\n",
    "index = np.where(matrix == vtoroe_sverhy)\n",
    "\n",
    "print(matrix)\n",
    "\n",
    "print()\n",
    "\n",
    "print(\"Второе сверху: \", vtoroe_sverhy,\"\\nего индекс: \",index)\n"
   ]
  },
  {
   "cell_type": "markdown",
   "metadata": {},
   "source": [
    "8. Задать два двухмерных массива *ar1* и *ar2* размерности (4, 7), состоящих из случайных целых чисел в пределах от 0 до 10. Построить двухмерный массив размерности (4, 7), каждый элемент которого представляет собой максимум (минимум, среднее) из двух значений, находящихся на аналогичной позиции в массивах *ar1*, *ar2*."
   ]
  },
  {
   "cell_type": "code",
   "execution_count": 71,
   "metadata": {},
   "outputs": [
    {
     "name": "stdout",
     "output_type": "stream",
     "text": [
      "[[7 1 7 3 9 2 9]\n",
      " [8 9 7 9 5 8 8]\n",
      " [9 3 9 4 6 3 3]\n",
      " [2 8 5 6 5 6 7]]\n",
      "\n",
      "[[1 4 1 0 1 5 7]\n",
      " [8 9 5 7 8 8 4]\n",
      " [0 5 6 6 2 8 3]\n",
      " [6 9 4 9 5 9 6]]\n",
      "\n",
      "[[7 4 7 3 9 5 9]\n",
      " [8 9 7 9 8 8 8]\n",
      " [9 5 9 6 6 8 3]\n",
      " [6 9 5 9 5 9 7]]\n",
      "\n",
      "[[1 1 1 0 1 2 7]\n",
      " [8 9 5 7 5 8 4]\n",
      " [0 3 6 4 2 3 3]\n",
      " [2 8 4 6 5 6 6]]\n",
      "\n",
      "[[4.  2.5 4.  1.5 5.  3.5 8. ]\n",
      " [8.  9.  6.  8.  6.5 8.  6. ]\n",
      " [4.5 4.  7.5 5.  4.  5.5 3. ]\n",
      " [4.  8.5 4.5 7.5 5.  7.5 6.5]]\n"
     ]
    }
   ],
   "source": [
    "# 8. Ваш код здесь\n",
    "\n",
    "from numpy import random\n",
    "\n",
    "ar1 = np.random.randint(0, 10, (4, 7))\n",
    "\n",
    "ar2 = np.random.randint(0, 10, (4, 7))\n",
    "\n",
    "ar_max = np.maximum(ar1,ar2)\n",
    "\n",
    "ar_min = np.minimum(ar1,ar2)\n",
    "\n",
    "ar_medium = (ar_max+ar_min)/2\n",
    "\n",
    "\n",
    "\n",
    "print(ar1)\n",
    "print()\n",
    "print(ar2)\n",
    "print()\n",
    "print(ar_max,ar_min,ar_medium, sep='\\n\\n')\n",
    "\n"
   ]
  },
  {
   "cell_type": "markdown",
   "metadata": {},
   "source": [
    "9. Имеется массив *great_array*\n",
    "```\n",
    "first = [x**(1/2) for x in range(100)]\n",
    "second = [x**(1/3) for x in range(100, 200)]\n",
    "third = [x/y for x in range(200,300,2) for y in [3,5]]\n",
    "great_array = np.array([first, second, third]).T\n",
    "```\n",
    "Чему равна сумма элементов массива great_array, значение которых больше 50?"
   ]
  },
  {
   "cell_type": "code",
   "execution_count": 3,
   "metadata": {},
   "outputs": [
    {
     "name": "stdout",
     "output_type": "stream",
     "text": [
      "5470.0\n"
     ]
    }
   ],
   "source": [
    "#9\n",
    "import numpy as np\n",
    "\n",
    "first = [x**(1/2) for x in range(100)]\n",
    "second = [x**(1/3) for x in range(100, 200)]\n",
    "third = [x/y for x in range(200,300,2) for y in [3,5]]\n",
    "great_array = np.array([first, second, third])\n",
    "\n",
    "# Ваш код здесь\n",
    "great_array_filter = great_array > 50\n",
    "\n",
    "summ_new = np.sum(great_array[great_array_filter])\n",
    "\n",
    "print(summ_new)"
   ]
  },
  {
   "cell_type": "markdown",
   "metadata": {},
   "source": [
    "10. Переведите массив *great_array* в одномерную форму. Какое значение в получившемся массиве имеет элемент с индексом 150?"
   ]
  },
  {
   "cell_type": "code",
   "execution_count": 16,
   "metadata": {},
   "outputs": [
    {
     "name": "stdout",
     "output_type": "stream",
     "text": [
      "5.313292845913055\n"
     ]
    }
   ],
   "source": [
    "# 10. Ваш код здесь\n",
    "\n",
    "x = great_array.reshape(-1)\n",
    "\n",
    "print(x[150])"
   ]
  },
  {
   "cell_type": "markdown",
   "metadata": {},
   "source": [
    "11. Получить индексы, для которых элементы массивов A и B совпадают.\n",
    "```\n",
    "A = np.array([1,2,3,2,3,4,3,4,5,6])\n",
    "B = np.array([7,2,10,2,7,4,9,4,9,8])\n",
    "```\n",
    "Ожидается результат:\n",
    "\n",
    "```\n",
    "array([1, 3, 5, 7])\n",
    "```"
   ]
  },
  {
   "cell_type": "code",
   "execution_count": 14,
   "metadata": {},
   "outputs": [
    {
     "name": "stdout",
     "output_type": "stream",
     "text": [
      "(array([1, 3, 5, 7]),)\n"
     ]
    }
   ],
   "source": [
    "# 11.\n",
    "\n",
    "A = np.array([1,2,3,2,3,4,3,4,5,6])\n",
    "B = np.array([7,2,10,2,7,4,9,4,9,8])\n",
    "\n",
    "# Ваш код здесь\n",
    "\n",
    "C = np.where(A==B)\n",
    "\n",
    "print(C)\n"
   ]
  },
  {
   "cell_type": "markdown",
   "metadata": {},
   "source": [
    "<p style=\"font-size:125%; color:#119988; background-color:#EEE\">Задание 12</p>\n",
    "\n",
    "Создайте три массива: массив четных чисел от 2 до 20, массив ближайших к числам первого массива бОльших нечётных чисел, массив векторного произведения первого массива на второй. Соедините все массивы в один двумерный массив, расположив исходные массивы в столбцах."
   ]
  },
  {
   "cell_type": "code",
   "execution_count": 5,
   "metadata": {},
   "outputs": [
    {
     "name": "stdout",
     "output_type": "stream",
     "text": [
      "[[  2   3   6]\n",
      " [  4   5  20]\n",
      " [  6   7  42]\n",
      " [  8   9  72]\n",
      " [ 10  11 110]\n",
      " [ 12  13 156]\n",
      " [ 14  15 210]\n",
      " [ 16  17 272]\n",
      " [ 18  19 342]\n",
      " [ 20  21 420]]\n"
     ]
    }
   ],
   "source": [
    "#четный числа\n",
    "\n",
    "import numpy as np\n",
    "number = np.arange(2,21,2)\n",
    "#НЕчетный числа\n",
    "odd_number = number + 1\n",
    "#произведение массивов\n",
    "multi = number*odd_number\n",
    "\n",
    "unity = np.stack((number,odd_number,multi), axis=1)\n",
    "\n",
    "print(unity)"
   ]
  }
 ],
 "metadata": {
  "kernelspec": {
   "display_name": "base",
   "language": "python",
   "name": "python3"
  },
  "language_info": {
   "codemirror_mode": {
    "name": "ipython",
    "version": 3
   },
   "file_extension": ".py",
   "mimetype": "text/x-python",
   "name": "python",
   "nbconvert_exporter": "python",
   "pygments_lexer": "ipython3",
   "version": "3.11.4"
  },
  "orig_nbformat": 4
 },
 "nbformat": 4,
 "nbformat_minor": 2
}
